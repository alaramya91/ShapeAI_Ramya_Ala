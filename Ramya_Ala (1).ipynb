{
  "nbformat": 4,
  "nbformat_minor": 0,
  "metadata": {
    "colab": {
      "name": "Ramya_Ala.ipynb",
      "provenance": [],
      "collapsed_sections": []
    },
    "kernelspec": {
      "name": "python3",
      "display_name": "Python 3"
    },
    "language_info": {
      "name": "python"
    }
  },
  "cells": [
    {
      "cell_type": "code",
      "metadata": {
        "id": "AEAOHROxrffU"
      },
      "source": [
        "From keras.dataset impart mnist\n",
        "data=mnist.load_data()\n",
        "((x_train,y_train),(x_test,y_test))=data\n",
        "x_train =x_train.reshape((x_train.shape(0), 28x28)).astype('float32')\n",
        "X_test=x_test.reshape((x_test.shape(0), 28x28)).astype('float32')\n",
        "X_train=X_train/255\n",
        "X_test=X_test/255\n",
        "()from keras.utils import np_utils'\n",
        "Print(y_test.shape)\n",
        "Y_train=np_untils.to_categorically(Y_train)\n",
        "Y_test=np_untils.to_categorically(y_test)\n",
        "num_classes=y_test.shape(1)\n",
        "Print(y_test.shape)\n",
        "{}from keras.models import sequential\n",
        "from keras.layesr import dense \n",
        "model=sequential()\n",
        "model.add(dense(32,import-dim=28x28, activation='relu'))\n",
        "model.add(dense164,activation='relu')\n",
        "model.add(dense(10))activations='softmax'))\n",
        "model.comile(loss='categorical_crossentropy', optimizer='adam', metrics=('accuracy'))\n",
        "model.summary()\n",
        "model.fit(x-train,y-train,epochs=10,batch_size=100)\n",
        "scores=model.eyaluate(x_test,y_test)\n",
        "Print(scores)"
      ],
      "execution_count": null,
      "outputs": []
    }
  ]
}